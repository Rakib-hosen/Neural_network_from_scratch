{
  "nbformat": 4,
  "nbformat_minor": 0,
  "metadata": {
    "colab": {
      "name": "logistic regression.ipynb",
      "provenance": [],
      "authorship_tag": "ABX9TyNyO+dt/Tg7uOwdEkNPnKjR",
      "include_colab_link": true
    },
    "kernelspec": {
      "name": "python3",
      "display_name": "Python 3"
    }
  },
  "cells": [
    {
      "cell_type": "markdown",
      "metadata": {
        "id": "view-in-github",
        "colab_type": "text"
      },
      "source": [
        "<a href=\"https://colab.research.google.com/github/Rakib-hosen/Neural_network_from_scratch/blob/master/logistic_regression.ipynb\" target=\"_parent\"><img src=\"https://colab.research.google.com/assets/colab-badge.svg\" alt=\"Open In Colab\"/></a>"
      ]
    },
    {
      "cell_type": "code",
      "metadata": {
        "id": "QXtaprY826V6",
        "colab_type": "code",
        "colab": {}
      },
      "source": [
        "import numpy as np\n",
        "import tensorflow as tf\n",
        "import zipfile\n",
        "import os\n",
        "import cv2\n",
        "import random"
      ],
      "execution_count": 6,
      "outputs": []
    },
    {
      "cell_type": "code",
      "metadata": {
        "id": "6QOVtpU2DZFV",
        "colab_type": "code",
        "colab": {
          "base_uri": "https://localhost:8080/",
          "height": 391
        },
        "outputId": "1a95bba9-ff21-4a9d-cdb2-027fbb649e86"
      },
      "source": [
        "!wget --no-check-certificate https://storage.googleapis.com/laurencemoroney-blog.appspot.com/horse-or-human.zip \\\n",
        "                -O /tmp/horse-or-human.zip\n",
        "\n",
        "\n",
        "# the Horse or Human validation dataset\n",
        "!wget --no-check-certificate https://storage.googleapis.com/laurencemoroney-blog.appspot.com/validation-horse-or-human.zip \\\n",
        "                  -O /tmp/validation-horse-or-human.zip \n"
      ],
      "execution_count": 7,
      "outputs": [
        {
          "output_type": "stream",
          "text": [
            "--2020-08-15 15:28:23--  https://storage.googleapis.com/laurencemoroney-blog.appspot.com/horse-or-human.zip\n",
            "Resolving storage.googleapis.com (storage.googleapis.com)... 173.194.217.128, 172.217.193.128, 172.217.204.128, ...\n",
            "Connecting to storage.googleapis.com (storage.googleapis.com)|173.194.217.128|:443... connected.\n",
            "HTTP request sent, awaiting response... 200 OK\n",
            "Length: 149574867 (143M) [application/zip]\n",
            "Saving to: ‘/tmp/horse-or-human.zip’\n",
            "\n",
            "\r/tmp/horse-or-human   0%[                    ]       0  --.-KB/s               \r/tmp/horse-or-human  27%[====>               ]  39.27M   196MB/s               \r/tmp/horse-or-human  53%[=========>          ]  76.32M   191MB/s               \r/tmp/horse-or-human  90%[=================>  ] 129.36M   216MB/s               \r/tmp/horse-or-human 100%[===================>] 142.65M   213MB/s    in 0.7s    \n",
            "\n",
            "2020-08-15 15:28:24 (213 MB/s) - ‘/tmp/horse-or-human.zip’ saved [149574867/149574867]\n",
            "\n",
            "--2020-08-15 15:28:26--  https://storage.googleapis.com/laurencemoroney-blog.appspot.com/validation-horse-or-human.zip\n",
            "Resolving storage.googleapis.com (storage.googleapis.com)... 173.194.217.128, 172.217.204.128, 172.217.203.128, ...\n",
            "Connecting to storage.googleapis.com (storage.googleapis.com)|173.194.217.128|:443... connected.\n",
            "HTTP request sent, awaiting response... 200 OK\n",
            "Length: 11480187 (11M) [application/zip]\n",
            "Saving to: ‘/tmp/validation-horse-or-human.zip’\n",
            "\n",
            "/tmp/validation-hor 100%[===================>]  10.95M  73.0MB/s    in 0.2s    \n",
            "\n",
            "2020-08-15 15:28:26 (73.0 MB/s) - ‘/tmp/validation-horse-or-human.zip’ saved [11480187/11480187]\n",
            "\n"
          ],
          "name": "stdout"
        }
      ]
    },
    {
      "cell_type": "code",
      "metadata": {
        "id": "1HBL8DliD71_",
        "colab_type": "code",
        "colab": {}
      },
      "source": [
        "train_zip = '/tmp/horse-or-human.zip'\n",
        "train_zip_ref  = zipfile.ZipFile(train_zip, 'r')\n",
        "train_zip_ref.extractall('/tmp/train/')\n",
        "train_zip_ref.close()\n",
        "test_zip = '/tmp/validation-horse-or-human.zip'\n",
        "test_zip_ref  = zipfile.ZipFile(test_zip, 'r')\n",
        "test_zip_ref.extractall('/tmp/test/')\n",
        "test_zip_ref.close()"
      ],
      "execution_count": 8,
      "outputs": []
    },
    {
      "cell_type": "code",
      "metadata": {
        "id": "7SZZzvC3FNOB",
        "colab_type": "code",
        "colab": {
          "base_uri": "https://localhost:8080/",
          "height": 51
        },
        "outputId": "4a3a65bf-cdf3-4d35-e6d0-23f6c2559691"
      },
      "source": [
        "train_dir = '/tmp/train/'\n",
        "train_horses_dir = '/tmp/train/horses'\n",
        "train_humans_dir = '/tmp/train/humans'\n",
        "test_dir = '/tmp/train/'\n",
        "test_horses_dir = '/tmp/test/horses'\n",
        "test_humans_dir = '/tmp/test/horses'\n",
        "img_size = 96\n",
        "training_data = []\n",
        "for i in os.listdir(train_horses_dir):\n",
        "  im = cv2.imread(os.path.join(train_horses_dir,i),cv2.IMREAD_GRAYSCALE)\n",
        "  img_array = cv2.resize(im, (img_size, img_size))\n",
        "  training_data.append([img_array,0])\n",
        "for i in os.listdir(train_humans_dir):\n",
        "  im = cv2.imread(os.path.join(train_humans_dir,i),cv2.IMREAD_GRAYSCALE)\n",
        "  img_array = cv2.resize(im, (img_size, img_size))\n",
        "  training_data.append([img_array,1])\n",
        "print(len(training_data))\n",
        "testing_data = []\n",
        "for i in os.listdir(test_horses_dir):\n",
        "  im = cv2.imread(os.path.join(test_horses_dir,i),cv2.IMREAD_GRAYSCALE)\n",
        "  img_array = cv2.resize(im, (img_size, img_size))\n",
        "  testing_data.append([img_array,0])\n",
        "for i in os.listdir(test_humans_dir):\n",
        "  im = cv2.imread(os.path.join(test_humans_dir,i),cv2.IMREAD_GRAYSCALE)\n",
        "  img_array = cv2.resize(im, (img_size, img_size))\n",
        "  testing_data.append([img_array,1])\n",
        "\n",
        "print(len(testing_data))"
      ],
      "execution_count": 9,
      "outputs": [
        {
          "output_type": "stream",
          "text": [
            "1027\n",
            "256\n"
          ],
          "name": "stdout"
        }
      ]
    },
    {
      "cell_type": "code",
      "metadata": {
        "id": "RmLFtW7LiDZO",
        "colab_type": "code",
        "colab": {
          "base_uri": "https://localhost:8080/",
          "height": 34
        },
        "outputId": "86727fbb-3a7c-4974-fb79-d24fa39ea2f2"
      },
      "source": [
        "training_data = random.sample(training_data, len(training_data))\n",
        "testing_data = random.sample(testing_data, len(testing_data))\n",
        "print(len(training_data))\n",
        "X_train = []\n",
        "Y_train = []\n",
        "X_test = []\n",
        "Y_test = []\n",
        "for features,label in training_data:\n",
        "  X_train.append(features)\n",
        "  Y_train.append(label)\n",
        "for features,label in testing_data:\n",
        "  X_test.append(features)\n",
        "  Y_test.append(label)\n",
        "\n",
        "X_train = np.array(X_train)\n",
        "X_test = np.array(X_test)\n",
        "Y_train = np.array(Y_train)\n",
        "Y_test = np.array(Y_test)\n"
      ],
      "execution_count": 10,
      "outputs": [
        {
          "output_type": "stream",
          "text": [
            "1027\n"
          ],
          "name": "stdout"
        }
      ]
    },
    {
      "cell_type": "code",
      "metadata": {
        "id": "3QbYx4MDlSF9",
        "colab_type": "code",
        "colab": {
          "base_uri": "https://localhost:8080/",
          "height": 85
        },
        "outputId": "db33467d-ed71-4b95-bda8-bb5608a7b821"
      },
      "source": [
        "X_train_flatten = X_train.reshape(X_train.shape[0],-1).T\n",
        "X_test_flatten = X_test.reshape(X_test.shape[0],-1).T\n",
        "Y_train = Y_train.reshape(Y_train.shape[0],-1).T\n",
        "Y_test = Y_test.reshape(Y_test.shape[0],-1).T\n",
        "\n",
        "print(X_train_flatten.shape)\n",
        "print(Y_train.shape)\n",
        "print(X_test_flatten.shape)\n",
        "print(Y_test.shape)"
      ],
      "execution_count": 11,
      "outputs": [
        {
          "output_type": "stream",
          "text": [
            "(9216, 1027)\n",
            "(1, 1027)\n",
            "(9216, 256)\n",
            "(1, 256)\n"
          ],
          "name": "stdout"
        }
      ]
    },
    {
      "cell_type": "code",
      "metadata": {
        "id": "zETEFmbVaR1a",
        "colab_type": "code",
        "colab": {}
      },
      "source": [
        "X_test_flatten = X_test_flatten/255.0\n",
        "X_train_flatten = X_train_flatten/255.0"
      ],
      "execution_count": 12,
      "outputs": []
    },
    {
      "cell_type": "code",
      "metadata": {
        "id": "CqY9LDhB3Mm2",
        "colab_type": "code",
        "colab": {}
      },
      "source": [
        "def sigmoid(x):\n",
        "\n",
        "  a = 1/(1+np.exp(-x))\n",
        "\n",
        "  return a"
      ],
      "execution_count": 13,
      "outputs": []
    },
    {
      "cell_type": "code",
      "metadata": {
        "id": "CnXBL0Vk3l3T",
        "colab_type": "code",
        "colab": {
          "base_uri": "https://localhost:8080/",
          "height": 51
        },
        "outputId": "567f731c-1639-4b32-96f7-407def5a7bca"
      },
      "source": [
        "print(sigmoid(2))\n",
        "print(sigmoid(np.array([1,3,5,-1,-3,-5])))\n"
      ],
      "execution_count": 17,
      "outputs": [
        {
          "output_type": "stream",
          "text": [
            "0.8807970779778823\n",
            "[0.73105858 0.95257413 0.99330715 0.26894142 0.04742587 0.00669285]\n"
          ],
          "name": "stdout"
        }
      ]
    },
    {
      "cell_type": "code",
      "metadata": {
        "id": "fLnHOa3U3noj",
        "colab_type": "code",
        "colab": {}
      },
      "source": [
        "def initialization(dims):\n",
        "  w = np.zeros((dims,1))\n",
        "  b=0\n",
        " \n",
        "  assert(w.shape == (dims, 1))\n",
        "  assert(isinstance(b, float) or isinstance(b, int))\n",
        "  return w,b"
      ],
      "execution_count": 18,
      "outputs": []
    },
    {
      "cell_type": "code",
      "metadata": {
        "id": "OU4h93FD4xDk",
        "colab_type": "code",
        "colab": {
          "base_uri": "https://localhost:8080/",
          "height": 85
        },
        "outputId": "8b395312-8f79-45b1-8eb3-39361d438ed5"
      },
      "source": [
        "print(initialization(4))"
      ],
      "execution_count": 19,
      "outputs": [
        {
          "output_type": "stream",
          "text": [
            "(array([[0.],\n",
            "       [0.],\n",
            "       [0.],\n",
            "       [0.]]), 0)\n"
          ],
          "name": "stdout"
        }
      ]
    },
    {
      "cell_type": "code",
      "metadata": {
        "id": "m-u14s8m4_kq",
        "colab_type": "code",
        "colab": {}
      },
      "source": [
        "def  forward_and_backward_propagation(w, b, X, Y):\n",
        "\n",
        "  m = X.shape[1]\n",
        "\n",
        "\n",
        "  #forward propagation\n",
        "  A = sigmoid(np.dot(w.T,X)+b)\n",
        "  costs = -(np.sum(Y*np.log(A)+(1-Y)*np.log(1-A)))/m\n",
        "\n",
        "  #backword propagation\n",
        "  dw = np.dot(X,(A-Y).T)/m\n",
        "  db = np.sum(A-Y)/m\n",
        "\n",
        "  assert(dw.shape == w.shape)\n",
        "  assert(db.dtype == float)\n",
        "  costs = np.squeeze(costs)\n",
        "  assert(costs.shape == ())\n",
        "\n",
        "  gradients = {\n",
        "      'dw' : dw,\n",
        "      'db' : db\n",
        "  }\n",
        "\n",
        "  return gradients, costs"
      ],
      "execution_count": 24,
      "outputs": []
    },
    {
      "cell_type": "code",
      "metadata": {
        "id": "rhEJK83x9pqX",
        "colab_type": "code",
        "colab": {
          "base_uri": "https://localhost:8080/",
          "height": 119
        },
        "outputId": "76a8396f-fc83-43fd-e3f9-d92b01a7a25f"
      },
      "source": [
        "w, b, X, Y = np.array([[2.],[2.],[3]]), 2., np.array([[1.,2.,-1.],[3.,4.,-3.2],[4.,5.,1.]]), np.array([[1,0,1]])\n",
        "print(X.shape)\n",
        "grads, cost = forward_and_backward_propagation(w, b, X, Y)\n",
        "print (\"dw = \" + str(grads[\"dw\"]))\n",
        "print (\"db = \" + str(grads[\"db\"]))\n",
        "print (\"cost = \" + str(cost))"
      ],
      "execution_count": 25,
      "outputs": [
        {
          "output_type": "stream",
          "text": [
            "(3, 3)\n",
            "dw = [[0.98923485]\n",
            " [2.3655515 ]\n",
            " [1.34409849]]\n",
            "db = 0.010765154806416377\n",
            "cost = 10.810816320848764\n"
          ],
          "name": "stdout"
        }
      ]
    },
    {
      "cell_type": "code",
      "metadata": {
        "id": "OLl6uecT-DRp",
        "colab_type": "code",
        "colab": {}
      },
      "source": [
        "def optimization(w, b, X, Y, num_iteration, learning_rate):\n",
        "\n",
        "  costs = []\n",
        "\n",
        "  for i in range(num_iteration):\n",
        "    gradients, cost = forward_and_backward_propagation(w, b, X, Y)\n",
        "\n",
        "    dw = gradients['dw']\n",
        "    db = gradients['db']\n",
        "\n",
        "    #update the parameters\n",
        "\n",
        "    w = w - learning_rate * dw\n",
        "    b = b - learning_rate * db\n",
        "\n",
        "    if i%500 == 0:\n",
        "      costs.append(cost)\n",
        "      print(f'after {i} iterations cost is {cost}')\n",
        "\n",
        "  parameters = {\n",
        "      'w' : w,\n",
        "      'b' : b\n",
        "  }\n",
        "  grads = {\n",
        "      'dw' : dw,\n",
        "      'db' : db\n",
        "  }\n",
        "\n",
        "  return parameters, grads, costs\n"
      ],
      "execution_count": 26,
      "outputs": []
    },
    {
      "cell_type": "code",
      "metadata": {
        "id": "9nuYnM5gEtHo",
        "colab_type": "code",
        "colab": {
          "base_uri": "https://localhost:8080/",
          "height": 170
        },
        "outputId": "6c857d12-5497-44e6-eccc-df756faf4ce9"
      },
      "source": [
        "optimization(w, b, X, Y,1000,0.01)"
      ],
      "execution_count": 27,
      "outputs": [
        {
          "output_type": "stream",
          "text": [
            "after 0 iterations cost is 10.810816320848764\n",
            "after 500 iterations cost is 0.3935690666768905\n"
          ],
          "name": "stdout"
        },
        {
          "output_type": "execute_result",
          "data": {
            "text/plain": [
              "({'b': 1.9294144470291523, 'w': array([[-0.12256011],\n",
              "         [-1.14796625],\n",
              "         [ 0.45515108]])},\n",
              " {'db': -0.03640968068210537, 'dw': array([[ 0.0806908 ],\n",
              "         [ 0.01076744],\n",
              "         [-0.02784872]])},\n",
              " [10.810816320848764, 0.3935690666768905])"
            ]
          },
          "metadata": {
            "tags": []
          },
          "execution_count": 27
        }
      ]
    },
    {
      "cell_type": "code",
      "metadata": {
        "id": "xzaGsmMRE6p4",
        "colab_type": "code",
        "colab": {}
      },
      "source": [
        "def predict(w, b, X):\n",
        "\n",
        "  m = X.shape[1]\n",
        "  Y_prediction  = np.zeros((1, m))\n",
        "  w = w.reshape(X.shape[0],1)\n",
        "\n",
        "  A = sigmoid(np.dot(w.T,X)+b)\n",
        "\n",
        "  for i in range(A.shape[1]):\n",
        "    if A[0,i] >0.5:\n",
        "      Y_prediction[0,i] = 1\n",
        "    else:\n",
        "      Y_prediction[0,i] = 0\n",
        "\n",
        "  assert(Y_prediction.shape == (1, m))\n",
        "\n",
        "  return Y_prediction"
      ],
      "execution_count": 28,
      "outputs": []
    },
    {
      "cell_type": "code",
      "metadata": {
        "id": "U87q4VLf6nLY",
        "colab_type": "code",
        "colab": {
          "base_uri": "https://localhost:8080/",
          "height": 34
        },
        "outputId": "78f95956-cb5e-4238-b64d-6503e47df245"
      },
      "source": [
        "w = np.array([[0.1124579],[0.23106775]])\n",
        "b = -0.3\n",
        "X = np.array([[1.,-1.1,-3.2],[1.2,2.,0.1]])\n",
        "print (\"predictions = \" + str(predict(w, b, X)))"
      ],
      "execution_count": 29,
      "outputs": [
        {
          "output_type": "stream",
          "text": [
            "predictions = [[1. 1. 0.]]\n"
          ],
          "name": "stdout"
        }
      ]
    },
    {
      "cell_type": "code",
      "metadata": {
        "id": "bFw10mYR7YNP",
        "colab_type": "code",
        "colab": {}
      },
      "source": [
        "def model(X_train, Y_train, X_test, Y_test, num_of_iterations =1000, learning_rate=0.01):\n",
        "\n",
        "  dims = X_train.shape[0]\n",
        "  \n",
        "  w, b = initialization(dims)\n",
        "  parameters, grads, costs = optimization(w, b, X_train, Y_train, num_of_iterations, learning_rate)\n",
        "  w = parameters['w']\n",
        "  b = parameters['b']\n",
        "  Y_train_prediction = predict(w, b, X_train)\n",
        "  Y_test_prediction = predict(w, b, X_test)\n",
        "  train_accuracy = 100 - np.mean(np.abs(Y_train_prediction - Y_train)) * 100\n",
        "  test_accuracy = 100 - np.mean(np.abs(Y_test_prediction - Y_test)) * 100\n",
        "\n",
        "  print(f'Train accuracy {train_accuracy}%')\n",
        "  print(f'Test accuracy {test_accuracy}%')\n",
        "\n",
        "  history = {\n",
        "      'w' : w,\n",
        "      'b' : b,\n",
        "      'costs' : costs,\n",
        "      'num_of_iterations' : num_of_iterations,\n",
        "      'learning_rate' : learning_rate\n",
        "  }\n"
      ],
      "execution_count": 30,
      "outputs": []
    },
    {
      "cell_type": "code",
      "metadata": {
        "id": "P_1RoG-P_ex9",
        "colab_type": "code",
        "colab": {
          "base_uri": "https://localhost:8080/",
          "height": 102
        },
        "outputId": "5d487493-62e4-42dd-b3de-9f3fb307cf1c"
      },
      "source": [
        "history  = model(X_train_flatten, Y_train, X_test_flatten, Y_test, num_of_iterations =1500,learning_rate=0.01)"
      ],
      "execution_count": 31,
      "outputs": [
        {
          "output_type": "stream",
          "text": [
            "after 0 iterations cost is 0.6931471805599453\n",
            "after 500 iterations cost is 0.40759932064524074\n",
            "after 1000 iterations cost is 0.20048407487956682\n",
            "Train accuracy 95.71567672833496%\n",
            "Test accuracy 50.0%\n"
          ],
          "name": "stdout"
        }
      ]
    },
    {
      "cell_type": "code",
      "metadata": {
        "id": "nADVHGtlDFkA",
        "colab_type": "code",
        "colab": {}
      },
      "source": [
        ""
      ],
      "execution_count": 31,
      "outputs": []
    }
  ]
}