{
  "nbformat": 4,
  "nbformat_minor": 0,
  "metadata": {
    "colab": {
      "name": "logistic regression.ipynb",
      "provenance": [],
      "authorship_tag": "ABX9TyNZMq3B2+gSnE3XkxR3TGCN",
      "include_colab_link": true
    },
    "kernelspec": {
      "name": "python3",
      "display_name": "Python 3"
    }
  },
  "cells": [
    {
      "cell_type": "markdown",
      "metadata": {
        "id": "view-in-github",
        "colab_type": "text"
      },
      "source": [
        "<a href=\"https://colab.research.google.com/github/Rakib-hosen/Neural_network_from_scratch/blob/master/logistic_regression.ipynb\" target=\"_parent\"><img src=\"https://colab.research.google.com/assets/colab-badge.svg\" alt=\"Open In Colab\"/></a>"
      ]
    },
    {
      "cell_type": "code",
      "metadata": {
        "id": "QXtaprY826V6",
        "colab_type": "code",
        "colab": {}
      },
      "source": [
        "import numpy as np"
      ],
      "execution_count": 1,
      "outputs": []
    },
    {
      "cell_type": "code",
      "metadata": {
        "id": "CqY9LDhB3Mm2",
        "colab_type": "code",
        "colab": {}
      },
      "source": [
        "def sigmoid(x):\n",
        "\n",
        "  a = 1/(1+np.exp(-x))\n",
        "\n",
        "  return a"
      ],
      "execution_count": 2,
      "outputs": []
    },
    {
      "cell_type": "code",
      "metadata": {
        "id": "CnXBL0Vk3l3T",
        "colab_type": "code",
        "colab": {
          "base_uri": "https://localhost:8080/",
          "height": 51
        },
        "outputId": "e638dc44-e93e-43a8-9fb5-37c25ed7f434"
      },
      "source": [
        "print(sigmoid(2))\n",
        "print(sigmoid(np.array([1,3,5,-1,-3,-5])))\n"
      ],
      "execution_count": 13,
      "outputs": [
        {
          "output_type": "stream",
          "text": [
            "0.8807970779778823\n",
            "[0.73105858 0.95257413 0.99330715 0.26894142 0.04742587 0.00669285]\n"
          ],
          "name": "stdout"
        }
      ]
    },
    {
      "cell_type": "code",
      "metadata": {
        "id": "fLnHOa3U3noj",
        "colab_type": "code",
        "colab": {}
      },
      "source": [
        "def initialization(dims):\n",
        "  w = np.zeros((dims,1))\n",
        "  b=0\n",
        "  parameters = {\n",
        "      'w' : w,\n",
        "      'b' : b\n",
        "  }\n",
        "\n",
        "  return parameters"
      ],
      "execution_count": 16,
      "outputs": []
    },
    {
      "cell_type": "code",
      "metadata": {
        "id": "OU4h93FD4xDk",
        "colab_type": "code",
        "colab": {
          "base_uri": "https://localhost:8080/",
          "height": 85
        },
        "outputId": "40b801c8-0524-44da-8371-88df058618f7"
      },
      "source": [
        "print(initialization(4))"
      ],
      "execution_count": 17,
      "outputs": [
        {
          "output_type": "stream",
          "text": [
            "{'w': array([[0.],\n",
            "       [0.],\n",
            "       [0.],\n",
            "       [0.]]), 'b': 0}\n"
          ],
          "name": "stdout"
        }
      ]
    },
    {
      "cell_type": "code",
      "metadata": {
        "id": "m-u14s8m4_kq",
        "colab_type": "code",
        "colab": {}
      },
      "source": [
        "def  forward_and_backward_propagation(w, b, X, Y):\n",
        "\n",
        "  m = X.shape[1]\n",
        "\n",
        "\n",
        "  #forward propagation\n",
        "  A = sigmoid(np.dot(w.T,X)+b)\n",
        "  costs = -np.sum(Y*np.log(A)+(1-Y)*np.log(1-A))/m\n",
        "\n",
        "  #backword propagation\n",
        "  dw = np.dot(X,(A-Y).T)/m\n",
        "  db = np.sum(A-Y)/m\n",
        "\n",
        "  gradients = {\n",
        "      'dw' : dw,\n",
        "      'db' : db\n",
        "  }\n",
        "\n",
        "  return gradients, costs"
      ],
      "execution_count": 23,
      "outputs": []
    },
    {
      "cell_type": "code",
      "metadata": {
        "id": "rhEJK83x9pqX",
        "colab_type": "code",
        "colab": {
          "base_uri": "https://localhost:8080/",
          "height": 119
        },
        "outputId": "1faa4a02-f2dd-473e-c359-272358867b41"
      },
      "source": [
        "w, b, X, Y = np.array([[2.],[2.],[3]]), 2., np.array([[1.,2.,-1.],[3.,4.,-3.2],[4.,5.,1.]]), np.array([[1,0,1]])\n",
        "print(X.shape)\n",
        "grads, cost = forward_and_backward_propagation(w, b, X, Y)\n",
        "print (\"dw = \" + str(grads[\"dw\"]))\n",
        "print (\"db = \" + str(grads[\"db\"]))\n",
        "print (\"cost = \" + str(cost))"
      ],
      "execution_count": 28,
      "outputs": [
        {
          "output_type": "stream",
          "text": [
            "(3, 3)\n",
            "dw = [[0.98923485]\n",
            " [2.3655515 ]\n",
            " [1.34409849]]\n",
            "db = 0.010765154806416377\n",
            "cost = 10.810816320848764\n"
          ],
          "name": "stdout"
        }
      ]
    },
    {
      "cell_type": "code",
      "metadata": {
        "id": "OLl6uecT-DRp",
        "colab_type": "code",
        "colab": {}
      },
      "source": [
        "def optimization(w, b, X, Y, num_iteration, learning_rate):\n",
        "\n",
        "  costs = []\n",
        "\n",
        "  for i in range(num_iteration):\n",
        "    gradients, cost = forward_and_backward_propagation(w, b, X, Y)\n",
        "\n",
        "    dw = gradients['dw']\n",
        "    db = gradients['db']\n",
        "\n",
        "    #update the parameters\n",
        "\n",
        "    w = w - learning_rate * dw\n",
        "    b = b - learning_rate * db\n",
        "\n",
        "    if i%100 == 0:\n",
        "      costs.append(cost)\n",
        "      print(f'after {i} iterations cost is {cost}')\n",
        "\n",
        "  parameters = {\n",
        "      'w' : w,\n",
        "      'b' : b\n",
        "  }\n",
        "  grads = {\n",
        "      'dw' : dw,\n",
        "      'db' : db\n",
        "  }\n",
        "\n",
        "  return parameters, grads, costs\n"
      ],
      "execution_count": 34,
      "outputs": []
    },
    {
      "cell_type": "code",
      "metadata": {
        "id": "9nuYnM5gEtHo",
        "colab_type": "code",
        "colab": {
          "base_uri": "https://localhost:8080/",
          "height": 459
        },
        "outputId": "11e9c38d-c726-4714-eea3-798d784a1d22"
      },
      "source": [
        "optimization(w, b, X, Y,1000,0.01)"
      ],
      "execution_count": 39,
      "outputs": [
        {
          "output_type": "stream",
          "text": [
            "after 0 iterations cost is 10.810816320848764\n",
            "after 100 iterations cost is 4.0605258574120375\n",
            "after 200 iterations cost is 0.4368065177786202\n",
            "after 300 iterations cost is 0.41684007341226553\n",
            "after 400 iterations cost is 0.4048765307979636\n",
            "after 500 iterations cost is 0.3935690666768905\n",
            "after 600 iterations cost is 0.38283926366792814\n",
            "after 700 iterations cost is 0.37262681917820956\n",
            "after 800 iterations cost is 0.3628838603913185\n",
            "after 900 iterations cost is 0.35357133703993576\n"
          ],
          "name": "stdout"
        },
        {
          "output_type": "execute_result",
          "data": {
            "text/plain": [
              "({'b': 1.9294144470291523, 'w': array([[-0.12256011],\n",
              "         [-1.14796625],\n",
              "         [ 0.45515108]])},\n",
              " {'db': -0.03640968068210537, 'dw': array([[ 0.0806908 ],\n",
              "         [ 0.01076744],\n",
              "         [-0.02784872]])},\n",
              " [10.810816320848764,\n",
              "  4.0605258574120375,\n",
              "  0.4368065177786202,\n",
              "  0.41684007341226553,\n",
              "  0.4048765307979636,\n",
              "  0.3935690666768905,\n",
              "  0.38283926366792814,\n",
              "  0.37262681917820956,\n",
              "  0.3628838603913185,\n",
              "  0.35357133703993576])"
            ]
          },
          "metadata": {
            "tags": []
          },
          "execution_count": 39
        }
      ]
    },
    {
      "cell_type": "code",
      "metadata": {
        "id": "xzaGsmMRE6p4",
        "colab_type": "code",
        "colab": {}
      },
      "source": [
        ""
      ],
      "execution_count": null,
      "outputs": []
    }
  ]
}