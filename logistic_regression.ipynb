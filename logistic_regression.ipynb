{
  "nbformat": 4,
  "nbformat_minor": 0,
  "metadata": {
    "colab": {
      "name": "logistic regression.ipynb",
      "provenance": [],
      "authorship_tag": "ABX9TyPG6SsRTbfj/xqq6pgkuZWJ",
      "include_colab_link": true
    },
    "kernelspec": {
      "name": "python3",
      "display_name": "Python 3"
    }
  },
  "cells": [
    {
      "cell_type": "markdown",
      "metadata": {
        "id": "view-in-github",
        "colab_type": "text"
      },
      "source": [
        "<a href=\"https://colab.research.google.com/github/Rakib-hosen/Neural_network_from_scratch/blob/master/logistic_regression.ipynb\" target=\"_parent\"><img src=\"https://colab.research.google.com/assets/colab-badge.svg\" alt=\"Open In Colab\"/></a>"
      ]
    },
    {
      "cell_type": "code",
      "metadata": {
        "id": "QXtaprY826V6",
        "colab_type": "code",
        "colab": {}
      },
      "source": [
        "import numpy as np\n",
        "import tensorflow as tf\n",
        "import zipfile\n",
        "import os\n",
        "import cv2\n",
        "import random"
      ],
      "execution_count": 3,
      "outputs": []
    },
    {
      "cell_type": "code",
      "metadata": {
        "id": "6QOVtpU2DZFV",
        "colab_type": "code",
        "colab": {
          "base_uri": "https://localhost:8080/",
          "height": 391
        },
        "outputId": "d4113720-1e8a-4acb-8a4d-b44de8d7e3d9"
      },
      "source": [
        "!wget --no-check-certificate https://storage.googleapis.com/laurencemoroney-blog.appspot.com/horse-or-human.zip \\\n",
        "                -O /tmp/horse-or-human.zip\n",
        "\n",
        "\n",
        "# the Horse or Human validation dataset\n",
        "!wget --no-check-certificate https://storage.googleapis.com/laurencemoroney-blog.appspot.com/validation-horse-or-human.zip \\\n",
        "                  -O /tmp/validation-horse-or-human.zip \n"
      ],
      "execution_count": 4,
      "outputs": [
        {
          "output_type": "stream",
          "text": [
            "--2020-08-12 16:40:33--  https://storage.googleapis.com/laurencemoroney-blog.appspot.com/horse-or-human.zip\n",
            "Resolving storage.googleapis.com (storage.googleapis.com)... 173.194.216.128, 172.217.204.128, 172.217.203.128, ...\n",
            "Connecting to storage.googleapis.com (storage.googleapis.com)|173.194.216.128|:443... connected.\n",
            "HTTP request sent, awaiting response... 200 OK\n",
            "Length: 149574867 (143M) [application/zip]\n",
            "Saving to: ‘/tmp/horse-or-human.zip’\n",
            "\n",
            "/tmp/horse-or-human 100%[===================>] 142.65M  24.9MB/s    in 5.7s    \n",
            "\n",
            "2020-08-12 16:40:39 (24.9 MB/s) - ‘/tmp/horse-or-human.zip’ saved [149574867/149574867]\n",
            "\n",
            "--2020-08-12 16:40:41--  https://storage.googleapis.com/laurencemoroney-blog.appspot.com/validation-horse-or-human.zip\n",
            "Resolving storage.googleapis.com (storage.googleapis.com)... 173.194.216.128, 172.217.204.128, 172.217.203.128, ...\n",
            "Connecting to storage.googleapis.com (storage.googleapis.com)|173.194.216.128|:443... connected.\n",
            "HTTP request sent, awaiting response... 200 OK\n",
            "Length: 11480187 (11M) [application/zip]\n",
            "Saving to: ‘/tmp/validation-horse-or-human.zip’\n",
            "\n",
            "/tmp/validation-hor 100%[===================>]  10.95M  --.-KB/s    in 0.08s   \n",
            "\n",
            "2020-08-12 16:40:41 (136 MB/s) - ‘/tmp/validation-horse-or-human.zip’ saved [11480187/11480187]\n",
            "\n"
          ],
          "name": "stdout"
        }
      ]
    },
    {
      "cell_type": "code",
      "metadata": {
        "id": "1HBL8DliD71_",
        "colab_type": "code",
        "colab": {}
      },
      "source": [
        "train_zip = '/tmp/horse-or-human.zip'\n",
        "train_zip_ref  = zipfile.ZipFile(train_zip, 'r')\n",
        "train_zip_ref.extractall('/tmp/train/')\n",
        "train_zip_ref.close()\n",
        "test_zip = '/tmp/validation-horse-or-human.zip'\n",
        "test_zip_ref  = zipfile.ZipFile(test_zip, 'r')\n",
        "test_zip_ref.extractall('/tmp/test/')\n",
        "test_zip_ref.close()"
      ],
      "execution_count": 5,
      "outputs": []
    },
    {
      "cell_type": "code",
      "metadata": {
        "id": "7SZZzvC3FNOB",
        "colab_type": "code",
        "colab": {
          "base_uri": "https://localhost:8080/",
          "height": 51
        },
        "outputId": "bd73f034-6576-4480-bf1a-e2ab9721a75d"
      },
      "source": [
        "train_dir = '/tmp/train/'\n",
        "train_horses_dir = '/tmp/train/horses'\n",
        "train_humans_dir = '/tmp/train/humans'\n",
        "test_dir = '/tmp/train/'\n",
        "test_horses_dir = '/tmp/test/horses'\n",
        "test_humans_dir = '/tmp/test/horses'\n",
        "img_size = 96\n",
        "training_data = []\n",
        "for i in os.listdir(train_horses_dir):\n",
        "  im = cv2.imread(os.path.join(train_horses_dir,i),cv2.IMREAD_GRAYSCALE)\n",
        "  img_array = cv2.resize(im, (img_size, img_size))\n",
        "  training_data.append([img_array,0])\n",
        "for i in os.listdir(train_humans_dir):\n",
        "  im = cv2.imread(os.path.join(train_humans_dir,i),cv2.IMREAD_GRAYSCALE)\n",
        "  img_array = cv2.resize(im, (img_size, img_size))\n",
        "  training_data.append([img_array,1])\n",
        "print(len(training_data))\n",
        "testing_data = []\n",
        "for i in os.listdir(test_horses_dir):\n",
        "  im = cv2.imread(os.path.join(test_horses_dir,i),cv2.IMREAD_GRAYSCALE)\n",
        "  img_array = cv2.resize(im, (img_size, img_size))\n",
        "  testing_data.append([img_array,0])\n",
        "for i in os.listdir(test_humans_dir):\n",
        "  im = cv2.imread(os.path.join(test_humans_dir,i),cv2.IMREAD_GRAYSCALE)\n",
        "  img_array = cv2.resize(im, (img_size, img_size))\n",
        "  testing_data.append([img_array,1])\n",
        "\n",
        "print(len(testing_data))"
      ],
      "execution_count": 29,
      "outputs": [
        {
          "output_type": "stream",
          "text": [
            "1027\n",
            "256\n"
          ],
          "name": "stdout"
        }
      ]
    },
    {
      "cell_type": "code",
      "metadata": {
        "id": "RmLFtW7LiDZO",
        "colab_type": "code",
        "colab": {
          "base_uri": "https://localhost:8080/",
          "height": 34
        },
        "outputId": "d0d86233-429f-4def-a832-5f25589ef6fe"
      },
      "source": [
        "training_data = random.sample(training_data, len(training_data))\n",
        "testing_data = random.sample(testing_data, len(testing_data))\n",
        "print(len(training_data))\n",
        "X_train = []\n",
        "Y_train = []\n",
        "X_test = []\n",
        "Y_test = []\n",
        "for features,label in training_data:\n",
        "  X_train.append(features)\n",
        "  Y_train.append(label)\n",
        "for features,label in testing_data:\n",
        "  X_test.append(features)\n",
        "  Y_test.append(label)\n",
        "\n",
        "X_train = np.array(X_train).reshape()\n",
        "X_test = np.array(X_test)\n"
      ],
      "execution_count": 31,
      "outputs": [
        {
          "output_type": "stream",
          "text": [
            "1027\n"
          ],
          "name": "stdout"
        }
      ]
    },
    {
      "cell_type": "code",
      "metadata": {
        "id": "3QbYx4MDlSF9",
        "colab_type": "code",
        "colab": {
          "base_uri": "https://localhost:8080/",
          "height": 34
        },
        "outputId": "7221b345-ced4-449b-8f49-cd5b11bcd785"
      },
      "source": [
        "print(X_train.shape)"
      ],
      "execution_count": 32,
      "outputs": [
        {
          "output_type": "stream",
          "text": [
            "(1027, 96, 96)\n"
          ],
          "name": "stdout"
        }
      ]
    },
    {
      "cell_type": "code",
      "metadata": {
        "id": "CqY9LDhB3Mm2",
        "colab_type": "code",
        "colab": {}
      },
      "source": [
        "def sigmoid(x):\n",
        "\n",
        "  a = 1/(1+np.exp(-x))\n",
        "\n",
        "  return a"
      ],
      "execution_count": null,
      "outputs": []
    },
    {
      "cell_type": "code",
      "metadata": {
        "id": "CnXBL0Vk3l3T",
        "colab_type": "code",
        "colab": {
          "base_uri": "https://localhost:8080/",
          "height": 51
        },
        "outputId": "1fc07dcb-ed28-4e80-adab-6ee6743fa942"
      },
      "source": [
        "print(sigmoid(2))\n",
        "print(sigmoid(np.array([1,3,5,-1,-3,-5])))\n"
      ],
      "execution_count": null,
      "outputs": [
        {
          "output_type": "stream",
          "text": [
            "0.8807970779778823\n",
            "[0.73105858 0.95257413 0.99330715 0.26894142 0.04742587 0.00669285]\n"
          ],
          "name": "stdout"
        }
      ]
    },
    {
      "cell_type": "code",
      "metadata": {
        "id": "fLnHOa3U3noj",
        "colab_type": "code",
        "colab": {}
      },
      "source": [
        "def initialization(dims):\n",
        "  w = np.zeros((dims,1))\n",
        "  b=0\n",
        "  parameters = {\n",
        "      'w' : w,\n",
        "      'b' : b\n",
        "  }\n",
        "\n",
        "  return parameters"
      ],
      "execution_count": null,
      "outputs": []
    },
    {
      "cell_type": "code",
      "metadata": {
        "id": "OU4h93FD4xDk",
        "colab_type": "code",
        "colab": {
          "base_uri": "https://localhost:8080/",
          "height": 85
        },
        "outputId": "a00adbd2-3080-4dd8-b831-a0481241a8fa"
      },
      "source": [
        "print(initialization(4))"
      ],
      "execution_count": null,
      "outputs": [
        {
          "output_type": "stream",
          "text": [
            "{'w': array([[0.],\n",
            "       [0.],\n",
            "       [0.],\n",
            "       [0.]]), 'b': 0}\n"
          ],
          "name": "stdout"
        }
      ]
    },
    {
      "cell_type": "code",
      "metadata": {
        "id": "m-u14s8m4_kq",
        "colab_type": "code",
        "colab": {}
      },
      "source": [
        "def  forward_and_backward_propagation(w, b, X, Y):\n",
        "\n",
        "  m = X.shape[1]\n",
        "\n",
        "\n",
        "  #forward propagation\n",
        "  A = sigmoid(np.dot(w.T,X)+b)\n",
        "  costs = -np.sum(Y*np.log(A)+(1-Y)*np.log(1-A))/m\n",
        "\n",
        "  #backword propagation\n",
        "  dw = np.dot(X,(A-Y).T)/m\n",
        "  db = np.sum(A-Y)/m\n",
        "\n",
        "  gradients = {\n",
        "      'dw' : dw,\n",
        "      'db' : db\n",
        "  }\n",
        "\n",
        "  return gradients, costs"
      ],
      "execution_count": null,
      "outputs": []
    },
    {
      "cell_type": "code",
      "metadata": {
        "id": "rhEJK83x9pqX",
        "colab_type": "code",
        "colab": {
          "base_uri": "https://localhost:8080/",
          "height": 119
        },
        "outputId": "be665cae-5297-42a2-87fb-81858994bff2"
      },
      "source": [
        "w, b, X, Y = np.array([[2.],[2.],[3]]), 2., np.array([[1.,2.,-1.],[3.,4.,-3.2],[4.,5.,1.]]), np.array([[1,0,1]])\n",
        "print(X.shape)\n",
        "grads, cost = forward_and_backward_propagation(w, b, X, Y)\n",
        "print (\"dw = \" + str(grads[\"dw\"]))\n",
        "print (\"db = \" + str(grads[\"db\"]))\n",
        "print (\"cost = \" + str(cost))"
      ],
      "execution_count": null,
      "outputs": [
        {
          "output_type": "stream",
          "text": [
            "(3, 3)\n",
            "dw = [[0.98923485]\n",
            " [2.3655515 ]\n",
            " [1.34409849]]\n",
            "db = 0.010765154806416377\n",
            "cost = 10.810816320848764\n"
          ],
          "name": "stdout"
        }
      ]
    },
    {
      "cell_type": "code",
      "metadata": {
        "id": "OLl6uecT-DRp",
        "colab_type": "code",
        "colab": {}
      },
      "source": [
        "def optimization(w, b, X, Y, num_iteration, learning_rate):\n",
        "\n",
        "  costs = []\n",
        "\n",
        "  for i in range(num_iteration):\n",
        "    gradients, cost = forward_and_backward_propagation(w, b, X, Y)\n",
        "\n",
        "    dw = gradients['dw']\n",
        "    db = gradients['db']\n",
        "\n",
        "    #update the parameters\n",
        "\n",
        "    w = w - learning_rate * dw\n",
        "    b = b - learning_rate * db\n",
        "\n",
        "    if i%100 == 0:\n",
        "      costs.append(cost)\n",
        "      print(f'after {i} iterations cost is {cost}')\n",
        "\n",
        "  parameters = {\n",
        "      'w' : w,\n",
        "      'b' : b\n",
        "  }\n",
        "  grads = {\n",
        "      'dw' : dw,\n",
        "      'db' : db\n",
        "  }\n",
        "\n",
        "  return parameters, grads, costs\n"
      ],
      "execution_count": null,
      "outputs": []
    },
    {
      "cell_type": "code",
      "metadata": {
        "id": "9nuYnM5gEtHo",
        "colab_type": "code",
        "colab": {
          "base_uri": "https://localhost:8080/",
          "height": 459
        },
        "outputId": "901125cd-6b9e-48d4-8224-07caea00b16e"
      },
      "source": [
        "optimization(w, b, X, Y,1000,0.01)"
      ],
      "execution_count": null,
      "outputs": [
        {
          "output_type": "stream",
          "text": [
            "after 0 iterations cost is 10.810816320848764\n",
            "after 100 iterations cost is 4.0605258574120375\n",
            "after 200 iterations cost is 0.4368065177786202\n",
            "after 300 iterations cost is 0.41684007341226553\n",
            "after 400 iterations cost is 0.4048765307979636\n",
            "after 500 iterations cost is 0.3935690666768905\n",
            "after 600 iterations cost is 0.38283926366792814\n",
            "after 700 iterations cost is 0.37262681917820956\n",
            "after 800 iterations cost is 0.3628838603913185\n",
            "after 900 iterations cost is 0.35357133703993576\n"
          ],
          "name": "stdout"
        },
        {
          "output_type": "execute_result",
          "data": {
            "text/plain": [
              "({'b': 1.9294144470291523, 'w': array([[-0.12256011],\n",
              "         [-1.14796625],\n",
              "         [ 0.45515108]])},\n",
              " {'db': -0.03640968068210537, 'dw': array([[ 0.0806908 ],\n",
              "         [ 0.01076744],\n",
              "         [-0.02784872]])},\n",
              " [10.810816320848764,\n",
              "  4.0605258574120375,\n",
              "  0.4368065177786202,\n",
              "  0.41684007341226553,\n",
              "  0.4048765307979636,\n",
              "  0.3935690666768905,\n",
              "  0.38283926366792814,\n",
              "  0.37262681917820956,\n",
              "  0.3628838603913185,\n",
              "  0.35357133703993576])"
            ]
          },
          "metadata": {
            "tags": []
          },
          "execution_count": 9
        }
      ]
    },
    {
      "cell_type": "code",
      "metadata": {
        "id": "xzaGsmMRE6p4",
        "colab_type": "code",
        "colab": {}
      },
      "source": [
        "def predict(w, b, X):\n",
        "\n",
        "  m = X.shape[1]\n",
        "  Y_prediction  = np.zeros((1, m))\n",
        "  w = w.reshape(X.shape[0],1)\n",
        "\n",
        "  A = sigmoid(np.dot(w.T,X)+b)\n",
        "\n",
        "  for i in range(A.shape[1]):\n",
        "    if A[0,i] >0.5:\n",
        "      Y_prediction[0,i] = 1\n",
        "    else:\n",
        "      Y_prediction[0,i] = 0\n",
        "\n",
        "  return Y_prediction"
      ],
      "execution_count": null,
      "outputs": []
    },
    {
      "cell_type": "code",
      "metadata": {
        "id": "U87q4VLf6nLY",
        "colab_type": "code",
        "colab": {
          "base_uri": "https://localhost:8080/",
          "height": 34
        },
        "outputId": "d1538cad-44d0-4d54-e979-c78ba3cec103"
      },
      "source": [
        "w = np.array([[0.1124579],[0.23106775]])\n",
        "b = -0.3\n",
        "X = np.array([[1.,-1.1,-3.2],[1.2,2.,0.1]])\n",
        "print (\"predictions = \" + str(predict(w, b, X)))"
      ],
      "execution_count": null,
      "outputs": [
        {
          "output_type": "stream",
          "text": [
            "predictions = [[1. 1. 0.]]\n"
          ],
          "name": "stdout"
        }
      ]
    },
    {
      "cell_type": "code",
      "metadata": {
        "id": "bFw10mYR7YNP",
        "colab_type": "code",
        "colab": {}
      },
      "source": [
        "def model(X_train, Y_train, X_test, Y_test, num_of_iterations =1000, learning_rate=0.01):\n",
        "\n",
        "  dims = X_train.shape[0]\n",
        "  \n",
        "  w, b = initialization(dims)\n",
        "  parameters, grads, costs = optimization(w, b, X_train, Y_train, num_iteration, learning_rate)\n",
        "  w, b = parameters['w'],parameters['b']\n",
        "  Y_train_prediction = predict(w, b, X_train)\n",
        "  Y_test_prediction = predict(w, b, X_test)\n",
        "  train_accuracy = 100 - np.mean(np.abs(Y_train_prediction - Y_train)) * 100\n",
        "  test_accuracy = 100 - np.mean(np.abs(Y_test_prediction - Y_test)) * 100\n",
        "\n",
        "  print(f'Train accuracy {train_accuracy}%')\n",
        "  print(f'Test accuracy {test_accuracy}%')\n",
        "\n",
        "  history = {\n",
        "      'w' : w,\n",
        "      'b' : b,\n",
        "      'costs' : costs,\n",
        "      'num_of_iterations' : num_iteration,\n",
        "      'learning_rate' : learning_rate\n",
        "  }\n"
      ],
      "execution_count": null,
      "outputs": []
    },
    {
      "cell_type": "code",
      "metadata": {
        "id": "P_1RoG-P_ex9",
        "colab_type": "code",
        "colab": {}
      },
      "source": [
        "history  = model(X_train, Y_train, X_test, Y_test, num_of_iterations =5000,learning_rate=0.001)"
      ],
      "execution_count": null,
      "outputs": []
    },
    {
      "cell_type": "code",
      "metadata": {
        "id": "nADVHGtlDFkA",
        "colab_type": "code",
        "colab": {}
      },
      "source": [
        ""
      ],
      "execution_count": null,
      "outputs": []
    }
  ]
}